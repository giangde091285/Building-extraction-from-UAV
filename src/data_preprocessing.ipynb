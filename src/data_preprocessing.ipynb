{
 "cells": [
  {
   "cell_type": "markdown",
   "id": "9e2ffc14",
   "metadata": {},
   "source": [
    "## Import libraries/packages"
   ]
  },
  {
   "cell_type": "code",
   "execution_count": 1,
   "id": "4f877493",
   "metadata": {},
   "outputs": [],
   "source": [
    "import os\n",
    "import sys\n",
    "\n",
    "import glob\n",
    "\n",
    "from data_utils import RasterProcessor"
   ]
  },
  {
   "cell_type": "markdown",
   "id": "28311cbd",
   "metadata": {},
   "source": [
    "## Create training images (i.e, mask and label)"
   ]
  },
  {
   "cell_type": "code",
   "execution_count": 2,
   "id": "2e0af1a0",
   "metadata": {},
   "outputs": [],
   "source": [
    "# specify the input and output directories\n",
    "input_dir = \"../data/orig\"\n",
    "output_dir = \"../data/preprocessed\"\n",
    "\n",
    "in_rst = \"kv-1-dem-epsg5899.tif\"\n",
    "\n",
    "# create an instance of the RasterProcessor class\n",
    "processor = RasterProcessor(input_dir, output_dir, in_rst=in_rst)\n",
    "\n",
    "# process the rasters\n",
    "processor.process_rasters()"
   ]
  }
 ],
 "metadata": {
  "hide_input": false,
  "kernelspec": {
   "display_name": "Python 3 (ipykernel)",
   "language": "python",
   "name": "python3"
  },
  "language_info": {
   "codemirror_mode": {
    "name": "ipython",
    "version": 3
   },
   "file_extension": ".py",
   "mimetype": "text/x-python",
   "name": "python",
   "nbconvert_exporter": "python",
   "pygments_lexer": "ipython3",
   "version": "3.10.6"
  },
  "toc": {
   "base_numbering": 1,
   "nav_menu": {},
   "number_sections": true,
   "sideBar": true,
   "skip_h1_title": false,
   "title_cell": "Table of Contents",
   "title_sidebar": "Contents",
   "toc_cell": false,
   "toc_position": {},
   "toc_section_display": true,
   "toc_window_display": false
  },
  "varInspector": {
   "cols": {
    "lenName": 16,
    "lenType": 16,
    "lenVar": 40
   },
   "kernels_config": {
    "python": {
     "delete_cmd_postfix": "",
     "delete_cmd_prefix": "del ",
     "library": "var_list.py",
     "varRefreshCmd": "print(var_dic_list())"
    },
    "r": {
     "delete_cmd_postfix": ") ",
     "delete_cmd_prefix": "rm(",
     "library": "var_list.r",
     "varRefreshCmd": "cat(var_dic_list()) "
    }
   },
   "types_to_exclude": [
    "module",
    "function",
    "builtin_function_or_method",
    "instance",
    "_Feature"
   ],
   "window_display": false
  }
 },
 "nbformat": 4,
 "nbformat_minor": 5
}
